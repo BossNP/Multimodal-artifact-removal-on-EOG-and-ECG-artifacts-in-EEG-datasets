{
  "cells": [
    {
      "cell_type": "markdown",
      "metadata": {
        "id": "dhYzpVTcGrh8"
      },
      "source": [
        "# In case, the file import data from Google Drive"
      ]
    },
    {
      "cell_type": "code",
      "execution_count": null,
      "metadata": {
        "colab": {
          "base_uri": "https://localhost:8080/"
        },
        "id": "icTox4dkGp0P",
        "outputId": "10cf991c-89a6-4f84-a38d-d9d3acd09668"
      },
      "outputs": [
        {
          "output_type": "stream",
          "name": "stdout",
          "text": [
            "Mounted at /content/drive\n"
          ]
        }
      ],
      "source": [
        "from google.colab import drive\n",
        "drive.mount('/content/drive')"
      ]
    },
    {
      "cell_type": "code",
      "execution_count": null,
      "metadata": {
        "colab": {
          "base_uri": "https://localhost:8080/"
        },
        "id": "PHSTp-kXGtjz",
        "outputId": "89f62ca7-2bf2-43f7-c92b-fd2edded9e12"
      },
      "outputs": [
        {
          "output_type": "stream",
          "name": "stdout",
          "text": [
            "/content/drive/MyDrive/Colab Notebooks\n"
          ]
        }
      ],
      "source": [
        "%cd drive/MyDrive/Colab\\ Notebooks\n",
        "# !ls"
      ]
    },
    {
      "cell_type": "code",
      "execution_count": null,
      "metadata": {
        "colab": {
          "base_uri": "https://localhost:8080/"
        },
        "id": "xWEZakI4Gzcv",
        "outputId": "7bf93478-7127-449c-e723-cbab23da6479"
      },
      "outputs": [
        {
          "output_type": "stream",
          "name": "stdout",
          "text": [
            "Looking in indexes: https://pypi.org/simple, https://us-python.pkg.dev/colab-wheels/public/simple/\n",
            "Collecting mne\n",
            "  Downloading mne-1.1.1-py3-none-any.whl (7.5 MB)\n",
            "\u001b[K     |████████████████████████████████| 7.5 MB 3.9 MB/s \n",
            "\u001b[?25hRequirement already satisfied: numpy>=1.15.4 in /usr/local/lib/python3.7/dist-packages (from mne) (1.21.6)\n",
            "Requirement already satisfied: matplotlib in /usr/local/lib/python3.7/dist-packages (from mne) (3.2.2)\n",
            "Requirement already satisfied: packaging in /usr/local/lib/python3.7/dist-packages (from mne) (21.3)\n",
            "Requirement already satisfied: decorator in /usr/local/lib/python3.7/dist-packages (from mne) (4.4.2)\n",
            "Requirement already satisfied: jinja2 in /usr/local/lib/python3.7/dist-packages (from mne) (2.11.3)\n",
            "Requirement already satisfied: pooch>=1.5 in /usr/local/lib/python3.7/dist-packages (from mne) (1.6.0)\n",
            "Requirement already satisfied: tqdm in /usr/local/lib/python3.7/dist-packages (from mne) (4.64.1)\n",
            "Requirement already satisfied: scipy>=1.1.0 in /usr/local/lib/python3.7/dist-packages (from mne) (1.7.3)\n",
            "Requirement already satisfied: requests>=2.19.0 in /usr/local/lib/python3.7/dist-packages (from pooch>=1.5->mne) (2.23.0)\n",
            "Requirement already satisfied: appdirs>=1.3.0 in /usr/local/lib/python3.7/dist-packages (from pooch>=1.5->mne) (1.4.4)\n",
            "Requirement already satisfied: pyparsing!=3.0.5,>=2.0.2 in /usr/local/lib/python3.7/dist-packages (from packaging->mne) (3.0.9)\n",
            "Requirement already satisfied: idna<3,>=2.5 in /usr/local/lib/python3.7/dist-packages (from requests>=2.19.0->pooch>=1.5->mne) (2.10)\n",
            "Requirement already satisfied: urllib3!=1.25.0,!=1.25.1,<1.26,>=1.21.1 in /usr/local/lib/python3.7/dist-packages (from requests>=2.19.0->pooch>=1.5->mne) (1.24.3)\n",
            "Requirement already satisfied: chardet<4,>=3.0.2 in /usr/local/lib/python3.7/dist-packages (from requests>=2.19.0->pooch>=1.5->mne) (3.0.4)\n",
            "Requirement already satisfied: certifi>=2017.4.17 in /usr/local/lib/python3.7/dist-packages (from requests>=2.19.0->pooch>=1.5->mne) (2022.6.15)\n",
            "Requirement already satisfied: MarkupSafe>=0.23 in /usr/local/lib/python3.7/dist-packages (from jinja2->mne) (2.0.1)\n",
            "Requirement already satisfied: kiwisolver>=1.0.1 in /usr/local/lib/python3.7/dist-packages (from matplotlib->mne) (1.4.4)\n",
            "Requirement already satisfied: python-dateutil>=2.1 in /usr/local/lib/python3.7/dist-packages (from matplotlib->mne) (2.8.2)\n",
            "Requirement already satisfied: cycler>=0.10 in /usr/local/lib/python3.7/dist-packages (from matplotlib->mne) (0.11.0)\n",
            "Requirement already satisfied: typing-extensions in /usr/local/lib/python3.7/dist-packages (from kiwisolver>=1.0.1->matplotlib->mne) (4.1.1)\n",
            "Requirement already satisfied: six>=1.5 in /usr/local/lib/python3.7/dist-packages (from python-dateutil>=2.1->matplotlib->mne) (1.15.0)\n",
            "Installing collected packages: mne\n",
            "Successfully installed mne-1.1.1\n",
            "Looking in indexes: https://pypi.org/simple, https://us-python.pkg.dev/colab-wheels/public/simple/\n",
            "Collecting pyriemann\n",
            "  Downloading pyriemann-0.3.tar.gz (365 kB)\n",
            "\u001b[K     |████████████████████████████████| 365 kB 4.0 MB/s \n",
            "\u001b[?25hRequirement already satisfied: numpy in /usr/local/lib/python3.7/dist-packages (from pyriemann) (1.21.6)\n",
            "Requirement already satisfied: scipy in /usr/local/lib/python3.7/dist-packages (from pyriemann) (1.7.3)\n",
            "Requirement already satisfied: scikit-learn in /usr/local/lib/python3.7/dist-packages (from pyriemann) (1.0.2)\n",
            "Requirement already satisfied: joblib in /usr/local/lib/python3.7/dist-packages (from pyriemann) (1.1.0)\n",
            "Requirement already satisfied: pandas in /usr/local/lib/python3.7/dist-packages (from pyriemann) (1.3.5)\n",
            "Requirement already satisfied: pytz>=2017.3 in /usr/local/lib/python3.7/dist-packages (from pandas->pyriemann) (2022.2.1)\n",
            "Requirement already satisfied: python-dateutil>=2.7.3 in /usr/local/lib/python3.7/dist-packages (from pandas->pyriemann) (2.8.2)\n",
            "Requirement already satisfied: six>=1.5 in /usr/local/lib/python3.7/dist-packages (from python-dateutil>=2.7.3->pandas->pyriemann) (1.15.0)\n",
            "Requirement already satisfied: threadpoolctl>=2.0.0 in /usr/local/lib/python3.7/dist-packages (from scikit-learn->pyriemann) (3.1.0)\n",
            "Building wheels for collected packages: pyriemann\n",
            "  Building wheel for pyriemann (setup.py) ... \u001b[?25l\u001b[?25hdone\n",
            "  Created wheel for pyriemann: filename=pyriemann-0.3-py2.py3-none-any.whl size=78033 sha256=1c467869f1e6ff6691b1373aca346fd7fa1ff2dd54670a359a9ffc06017d1c04\n",
            "  Stored in directory: /root/.cache/pip/wheels/0b/1b/bf/a537f9e17e6c3490004ede419c72f863af1d0d765d25e532ef\n",
            "Successfully built pyriemann\n",
            "Installing collected packages: pyriemann\n",
            "Successfully installed pyriemann-0.3\n",
            "Looking in indexes: https://pypi.org/simple, https://us-python.pkg.dev/colab-wheels/public/simple/\n",
            "Collecting MOABB\n",
            "  Downloading moabb-0.4.6-py3-none-any.whl (140 kB)\n",
            "\u001b[K     |████████████████████████████████| 140 kB 4.0 MB/s \n",
            "\u001b[?25hCollecting PyYAML<6.0,>=5.0\n",
            "  Downloading PyYAML-5.4.1-cp37-cp37m-manylinux1_x86_64.whl (636 kB)\n",
            "\u001b[K     |████████████████████████████████| 636 kB 36.6 MB/s \n",
            "\u001b[?25hRequirement already satisfied: tqdm<5.0,>=4.62 in /usr/local/lib/python3.7/dist-packages (from MOABB) (4.64.1)\n",
            "Requirement already satisfied: scipy<2.0,>=1.5 in /usr/local/lib/python3.7/dist-packages (from MOABB) (1.7.3)\n",
            "Requirement already satisfied: pandas<2.0,>=1.0 in /usr/local/lib/python3.7/dist-packages (from MOABB) (1.3.5)\n",
            "Requirement already satisfied: mne>=0.19 in /usr/local/lib/python3.7/dist-packages (from MOABB) (1.1.1)\n",
            "Requirement already satisfied: pooch<2.0,>=1.6 in /usr/local/lib/python3.7/dist-packages (from MOABB) (1.6.0)\n",
            "Requirement already satisfied: pyriemann>=0.2.6 in /usr/local/lib/python3.7/dist-packages (from MOABB) (0.3)\n",
            "Requirement already satisfied: numpy<2.0.0,>=1.19.0 in /usr/local/lib/python3.7/dist-packages (from MOABB) (1.21.6)\n",
            "Requirement already satisfied: seaborn>=0.9 in /usr/local/lib/python3.7/dist-packages (from MOABB) (0.11.2)\n",
            "Collecting coverage<6.0,>=5.5\n",
            "  Downloading coverage-5.5-cp37-cp37m-manylinux2010_x86_64.whl (242 kB)\n",
            "\u001b[K     |████████████████████████████████| 242 kB 73.3 MB/s \n",
            "\u001b[?25hRequirement already satisfied: h5py<4.0,>=3.0 in /usr/local/lib/python3.7/dist-packages (from MOABB) (3.1.0)\n",
            "Requirement already satisfied: scikit-learn<2.0,>=1.0 in /usr/local/lib/python3.7/dist-packages (from MOABB) (1.0.2)\n",
            "Requirement already satisfied: requests<3.0.0,>=2.15.1 in /usr/local/lib/python3.7/dist-packages (from MOABB) (2.23.0)\n",
            "Requirement already satisfied: matplotlib<4.0,>=3.0 in /usr/local/lib/python3.7/dist-packages (from MOABB) (3.2.2)\n",
            "Requirement already satisfied: cached-property in /usr/local/lib/python3.7/dist-packages (from h5py<4.0,>=3.0->MOABB) (1.5.2)\n",
            "Requirement already satisfied: cycler>=0.10 in /usr/local/lib/python3.7/dist-packages (from matplotlib<4.0,>=3.0->MOABB) (0.11.0)\n",
            "Requirement already satisfied: kiwisolver>=1.0.1 in /usr/local/lib/python3.7/dist-packages (from matplotlib<4.0,>=3.0->MOABB) (1.4.4)\n",
            "Requirement already satisfied: pyparsing!=2.0.4,!=2.1.2,!=2.1.6,>=2.0.1 in /usr/local/lib/python3.7/dist-packages (from matplotlib<4.0,>=3.0->MOABB) (3.0.9)\n",
            "Requirement already satisfied: python-dateutil>=2.1 in /usr/local/lib/python3.7/dist-packages (from matplotlib<4.0,>=3.0->MOABB) (2.8.2)\n",
            "Requirement already satisfied: typing-extensions in /usr/local/lib/python3.7/dist-packages (from kiwisolver>=1.0.1->matplotlib<4.0,>=3.0->MOABB) (4.1.1)\n",
            "Requirement already satisfied: jinja2 in /usr/local/lib/python3.7/dist-packages (from mne>=0.19->MOABB) (2.11.3)\n",
            "Requirement already satisfied: decorator in /usr/local/lib/python3.7/dist-packages (from mne>=0.19->MOABB) (4.4.2)\n",
            "Requirement already satisfied: packaging in /usr/local/lib/python3.7/dist-packages (from mne>=0.19->MOABB) (21.3)\n",
            "Requirement already satisfied: pytz>=2017.3 in /usr/local/lib/python3.7/dist-packages (from pandas<2.0,>=1.0->MOABB) (2022.2.1)\n",
            "Requirement already satisfied: appdirs>=1.3.0 in /usr/local/lib/python3.7/dist-packages (from pooch<2.0,>=1.6->MOABB) (1.4.4)\n",
            "Requirement already satisfied: joblib in /usr/local/lib/python3.7/dist-packages (from pyriemann>=0.2.6->MOABB) (1.1.0)\n",
            "Requirement already satisfied: six>=1.5 in /usr/local/lib/python3.7/dist-packages (from python-dateutil>=2.1->matplotlib<4.0,>=3.0->MOABB) (1.15.0)\n",
            "Requirement already satisfied: urllib3!=1.25.0,!=1.25.1,<1.26,>=1.21.1 in /usr/local/lib/python3.7/dist-packages (from requests<3.0.0,>=2.15.1->MOABB) (1.24.3)\n",
            "Requirement already satisfied: certifi>=2017.4.17 in /usr/local/lib/python3.7/dist-packages (from requests<3.0.0,>=2.15.1->MOABB) (2022.6.15)\n",
            "Requirement already satisfied: idna<3,>=2.5 in /usr/local/lib/python3.7/dist-packages (from requests<3.0.0,>=2.15.1->MOABB) (2.10)\n",
            "Requirement already satisfied: chardet<4,>=3.0.2 in /usr/local/lib/python3.7/dist-packages (from requests<3.0.0,>=2.15.1->MOABB) (3.0.4)\n",
            "Requirement already satisfied: threadpoolctl>=2.0.0 in /usr/local/lib/python3.7/dist-packages (from scikit-learn<2.0,>=1.0->MOABB) (3.1.0)\n",
            "Requirement already satisfied: MarkupSafe>=0.23 in /usr/local/lib/python3.7/dist-packages (from jinja2->mne>=0.19->MOABB) (2.0.1)\n",
            "Installing collected packages: PyYAML, coverage, MOABB\n",
            "  Attempting uninstall: PyYAML\n",
            "    Found existing installation: PyYAML 6.0\n",
            "    Uninstalling PyYAML-6.0:\n",
            "      Successfully uninstalled PyYAML-6.0\n",
            "Successfully installed MOABB-0.4.6 PyYAML-5.4.1 coverage-5.5\n",
            "Looking in indexes: https://pypi.org/simple, https://us-python.pkg.dev/colab-wheels/public/simple/\n",
            "Requirement already satisfied: scipy in /usr/local/lib/python3.7/dist-packages (1.7.3)\n",
            "Requirement already satisfied: numpy<1.23.0,>=1.16.5 in /usr/local/lib/python3.7/dist-packages (from scipy) (1.21.6)\n"
          ]
        }
      ],
      "source": [
        "# Install libraries\n",
        "!pip install mne\n",
        "!pip install pyriemann\n",
        "!pip install MOABB\n",
        "!pip install  scipy"
      ]
    },
    {
      "cell_type": "markdown",
      "metadata": {
        "id": "c5m_m6oZG-LI"
      },
      "source": [
        "# Import libraries and read files"
      ]
    },
    {
      "cell_type": "code",
      "execution_count": null,
      "metadata": {
        "id": "gqwDEUpGHFAx"
      },
      "outputs": [],
      "source": [
        "import warnings\n",
        "\n",
        "import numpy as np\n",
        "import pandas as pd\n",
        "import matplotlib.pyplot as plt\n",
        "import mne\n",
        "import seaborn as sns\n",
        "from mne.decoding import CSP\n",
        "from sklearn.discriminant_analysis import LinearDiscriminantAnalysis as LDA\n",
        "from sklearn.pipeline import make_pipeline\n",
        "from sklearn.model_selection import train_test_split\n",
        "\n",
        "import moabb\n",
        "from moabb.datasets import BNCI2014004, Shin2017A\n",
        "from moabb.evaluations import WithinSessionEvaluation, CrossSubjectEvaluation\n",
        "from moabb.paradigms import LeftRightImagery\n",
        "\n",
        "\n",
        "moabb.set_log_level(\"info\")\n",
        "mne.set_log_level(\"CRITICAL\")\n",
        "warnings.filterwarnings(\"ignore\")"
      ]
    },
    {
      "cell_type": "code",
      "execution_count": null,
      "metadata": {
        "id": "D390ZbPwtK49"
      },
      "outputs": [],
      "source": [
        "import numpy as np\n",
        "import pandas as pd\n",
        "import matplotlib.pyplot as plt\n",
        "import scipy.io\n",
        "import mne\n",
        "from mne import find_events, Epochs, pick_types, read_evokeds\n",
        "from mne.preprocessing import ICA\n",
        "\n",
        "import pywt\n",
        "import scipy\n",
        "from mne.preprocessing import (ICA, create_eog_epochs, create_ecg_epochs,\n",
        "                               corrmap)\n",
        "from sklearn.neighbors import KDTree\n",
        "\n",
        "import seaborn as sns\n",
        "\n",
        "import os\n",
        "import re\n",
        "\n",
        "import torch\n",
        "import torch.nn as nn\n",
        "import torchvision\n",
        "from torch.utils.data import Dataset, DataLoader\n",
        "from torch.utils.data.sampler import SubsetRandomSampler"
      ]
    },
    {
      "cell_type": "code",
      "execution_count": null,
      "metadata": {
        "id": "GxuEbQ8dV-Ws"
      },
      "outputs": [],
      "source": [
        "from collections import OrderedDict\n",
        "\n",
        "# generic import\n",
        "import numpy as np\n",
        "import pandas as pd\n",
        "import seaborn as sns\n",
        "from matplotlib import pyplot as plt\n",
        "\n",
        "# mne import\n",
        "from mne import Epochs, pick_types, events_from_annotations\n",
        "from mne.io import concatenate_raws\n",
        "from mne.io.edf import read_raw_edf\n",
        "from mne.datasets import eegbci\n",
        "from mne.decoding import CSP\n",
        "\n",
        "# pyriemann import\n",
        "from pyriemann.classification import MDM, TSclassifier\n",
        "from pyriemann.estimation import Covariances\n",
        "\n",
        "# sklearn imports\n",
        "from sklearn.model_selection import cross_val_score, KFold\n",
        "from sklearn.preprocessing import StandardScaler\n",
        "from sklearn.pipeline import Pipeline\n",
        "from sklearn.linear_model import LogisticRegression\n",
        "from sklearn.model_selection import StratifiedKFold\n",
        "from sklearn.model_selection import GridSearchCV\n",
        "from sklearn.svm import SVC\n",
        "from sklearn.discriminant_analysis import LinearDiscriminantAnalysis as LDA\n",
        "from sklearn.metrics import classification_report"
      ]
    },
    {
      "cell_type": "code",
      "execution_count": null,
      "metadata": {
        "id": "2YORz42B0hxO"
      },
      "outputs": [],
      "source": [
        "n_event_ids = 20\n",
        "selected_data_len = 2000\n",
        "\n",
        "# 60 events/ 1 run/ 3 sessions/ 1 subject\n",
        "batch_size = 10\n",
        "n_subjs = 20\n",
        "events_per_run = 20\n",
        "runs_per_session = 1\n",
        "sessions_for_train = 2\n",
        "sessions_for_eval = 1\n",
        "events_per_subj_for_train = int(events_per_run * runs_per_session * sessions_for_train)\n",
        "events_per_subj_for_eval = int(events_per_run * runs_per_session * sessions_for_eval)\n",
        "train_split = int(events_per_subj_for_train * 0.8)\n",
        "\n",
        "list_subjs_names = [str(f\"Subject {i+1}\") if i < n_subjs else str(f\"All Subjects\")  for i in range(n_subjs+1)]\n",
        "# list_subjs_names"
      ]
    },
    {
      "cell_type": "markdown",
      "metadata": {
        "id": "u-BaVMJzWHm7"
      },
      "source": [
        "## Extract EEG from npy files"
      ]
    },
    {
      "cell_type": "code",
      "source": [
        "EOG_ref = \"EEGANet\"\n",
        "ECG_ref = None\n",
        "\n",
        "# LOAD EEG DATA\n",
        "train_eeg = np.load(f'Datasets/Shin2017A/npy_files/train_eeg_{EOG_ref}-{ECG_ref}.npy')\n",
        "eval_eeg = np.load(f'Datasets/Shin2017A/npy_files/eval_eeg_{EOG_ref}-{ECG_ref}.npy')\n",
        "# LOAD EVENT\n",
        "train_events = np.load(f'Datasets/Shin2017A/npy_files/train_events.npy')\n",
        "eval_events = np.load(f'Datasets/Shin2017A/npy_files/eval_events.npy')"
      ],
      "metadata": {
        "id": "Qxn4Ps85TtCP"
      },
      "execution_count": null,
      "outputs": []
    },
    {
      "cell_type": "markdown",
      "metadata": {
        "id": "f_ilwKFcWAzC"
      },
      "source": [
        "# Classification"
      ]
    },
    {
      "cell_type": "markdown",
      "metadata": {
        "id": "l2ODsoiLWA6c"
      },
      "source": [
        "## Classification - Train-Test\n",
        "\n",
        "- Finding a model's best combination of hyperparameters for CSP + LDA and CSP + SVM\n",
        "    - Tuning models by training and validaiton set"
      ]
    },
    {
      "cell_type": "code",
      "execution_count": null,
      "metadata": {
        "colab": {
          "base_uri": "https://localhost:8080/"
        },
        "id": "KKT3N26_6eR7",
        "outputId": "f448d8ff-1084-4a0a-9aba-571eeeabd2b9"
      },
      "outputs": [
        {
          "output_type": "stream",
          "name": "stdout",
          "text": [
            "(800,)\n",
            "[1 2 1 2 1 2 1 2 2 1]\n",
            "(400,)\n",
            "[1 2 2 1 2 1 1 2 1 2]\n",
            "(800, 30, 2000)\n",
            "0.8101441264152527\n",
            "-0.8276818990707397\n",
            "----------------------------------------------------------------------------------------------------\n",
            "(400, 30, 2000)\n",
            "0.8605532646179199\n",
            "-0.744243860244751\n",
            "----------------------------------------------------------------------------------------------------\n"
          ]
        }
      ],
      "source": [
        "list_epochs_modeling = [train_eeg,\n",
        "                        eval_eeg]\n",
        "\n",
        "print(train_events[:,-1].shape)\n",
        "print(train_events[:,-1][:10])\n",
        "print(eval_events[:,-1].shape)\n",
        "print(eval_events[:,-1][:10])\n",
        "\n",
        "for e_type in list_epochs_modeling:\n",
        "    # print(e_type.get_data().shape)\n",
        "    print(e_type.shape)\n",
        "    print(np.max(e_type))\n",
        "    print(np.min(e_type))\n",
        "    print('-'*100)\n",
        "\n",
        "# print(np.all(train_cont_eeg == train_denoised_eeg))"
      ]
    },
    {
      "cell_type": "code",
      "execution_count": null,
      "metadata": {
        "colab": {
          "base_uri": "https://localhost:8080/"
        },
        "id": "SAntwrYo6Zje",
        "outputId": "82df5a52-4f01-4ea4-a6db-64ee41f57d00"
      },
      "outputs": [
        {
          "output_type": "stream",
          "name": "stdout",
          "text": [
            "(800, 30, 2000) (800,)\n",
            "(640, 30, 2000) (160, 30, 2000) (400, 30, 2000)\n",
            "(640,) (160,) (400,)\n"
          ]
        }
      ],
      "source": [
        "X = train_eeg.copy()\n",
        "y = train_events[:, -1]\n",
        "\n",
        "print(X.shape, y.shape)\n",
        "\n",
        "# Create train and test sets\n",
        "X_train, X_val, y_train, y_val = train_test_split(X, y, test_size=0.2, random_state=42)\n",
        "\n",
        "X_test, y_test = eval_eeg.copy(), eval_events[:,-1]\n",
        "\n",
        "print(X_train.shape, X_val.shape, X_test.shape)\n",
        "print(y_train.shape, y_val.shape, y_test.shape)"
      ]
    },
    {
      "cell_type": "code",
      "execution_count": null,
      "metadata": {
        "colab": {
          "base_uri": "https://localhost:8080/"
        },
        "id": "Dl4UIkqq2pfn",
        "outputId": "998d9004-3bf9-4231-86f1-20045fdf5d90"
      },
      "outputs": [
        {
          "output_type": "stream",
          "name": "stdout",
          "text": [
            "Accuracy: 0.5875\n",
            "              precision    recall  f1-score   support\n",
            "\n",
            "           1       0.59      0.58      0.59        81\n",
            "           2       0.58      0.59      0.59        79\n",
            "\n",
            "    accuracy                           0.59       160\n",
            "   macro avg       0.59      0.59      0.59       160\n",
            "weighted avg       0.59      0.59      0.59       160\n",
            "\n",
            "Tuned Model Parameters: {'CSP__log': True, 'CSP__n_components': 10, 'CSP__reg': 'ledoit_wolf', 'SVM__C': 100, 'SVM__decision_function_shape': 'ovr', 'SVM__gamma': 0.1}\n"
          ]
        }
      ],
      "source": [
        "# Setup the pipeline\n",
        "# steps = [('scaler', StandardScaler()),\n",
        "#          ('CSP', csp),\n",
        "#          ('SVM', SVC())]\n",
        "\n",
        "steps = [('CSP', CSP()),\n",
        "         ('SVM', SVC())]\n",
        "\n",
        "pipeline = Pipeline(steps)\n",
        "\n",
        "# Specify the hyperparameter space\n",
        "parameters = {\"CSP__n_components\": [i for i in range(4,11)],\n",
        "              \"CSP__reg\": [\"ledoit_wolf\"],\n",
        "              \"CSP__log\": [True, False],\n",
        "              \"SVM__decision_function_shape\": [\"ovr\"],\n",
        "              \"SVM__C\":[1, 10, 100],\n",
        "              \"SVM__gamma\":[0.1, 0.01]}\n",
        "\n",
        "# Instantiate the GridSearchCV object: cv\n",
        "cv = GridSearchCV(pipeline, parameters, cv=5)\n",
        "\n",
        "# Fit to the training set\n",
        "cv.fit(X_train, y_train)\n",
        "\n",
        "# Predict the labels of the test set: y_pred\n",
        "y_pred = cv.predict(X_val)\n",
        "\n",
        "# Compute and print metrics\n",
        "print(\"Accuracy: {}\".format(cv.score(X_val, y_val)))\n",
        "print(classification_report(y_val, y_pred))\n",
        "print(\"Tuned Model Parameters: {}\".format(cv.best_params_))\n"
      ]
    },
    {
      "cell_type": "code",
      "execution_count": null,
      "metadata": {
        "colab": {
          "base_uri": "https://localhost:8080/"
        },
        "id": "-F_GXOZM6ztU",
        "outputId": "c6d33330-ecce-470a-fac8-96264031e8c0"
      },
      "outputs": [
        {
          "output_type": "stream",
          "name": "stdout",
          "text": [
            "{'CSP__log': True, 'CSP__n_components': 10, 'CSP__reg': 'ledoit_wolf', 'SVM__C': 100, 'SVM__decision_function_shape': 'ovr', 'SVM__gamma': 0.1}\n",
            "{'component_order': 'mutual_info',\n",
            " 'cov_est': 'concat',\n",
            " 'cov_method_params': None,\n",
            " 'log': True,\n",
            " 'n_components': 10,\n",
            " 'norm_trace': False,\n",
            " 'rank': None,\n",
            " 'reg': 'ledoit_wolf',\n",
            " 'transform_into': 'average_power'}\n",
            "Pipeline(steps=[('CSP', CSP(None)), ('SVM', SVC(C=100, gamma=0.1))])\n",
            "Accuracy: 0.5\n",
            "              precision    recall  f1-score   support\n",
            "\n",
            "           1       0.50      0.10      0.17       200\n",
            "           2       0.50      0.90      0.64       200\n",
            "\n",
            "    accuracy                           0.50       400\n",
            "   macro avg       0.50      0.50      0.40       400\n",
            "weighted avg       0.50      0.50      0.40       400\n",
            "\n",
            "Tuned Model Parameters: {'CSP__log': True, 'CSP__n_components': 10, 'CSP__reg': 'ledoit_wolf', 'SVM__C': 100, 'SVM__decision_function_shape': 'ovr', 'SVM__gamma': 0.1}\n"
          ]
        }
      ],
      "source": [
        "best_svm_hyperparameters = cv.best_params_\n",
        "best_svm = cv.best_estimator_\n",
        "\n",
        "print(best_svm_hyperparameters)\n",
        "print(best_svm)\n",
        "\n",
        "# Predict the labels of the test set: y_pred\n",
        "y_pred = cv.predict(X_test)\n",
        "\n",
        "# Compute and print metrics\n",
        "print(\"Accuracy: {}\".format(cv.score(X_test, y_test)))\n",
        "print(classification_report(y_test, y_pred))\n",
        "print(\"Tuned Model Parameters: {}\".format(cv.best_params_))"
      ]
    },
    {
      "cell_type": "code",
      "execution_count": null,
      "metadata": {
        "colab": {
          "base_uri": "https://localhost:8080/"
        },
        "id": "4WCWGkKiS1CC",
        "outputId": "1b7252de-d413-42c2-9f09-29cdab668ad6"
      },
      "outputs": [
        {
          "output_type": "stream",
          "name": "stdout",
          "text": [
            "{'component_order': 'mutual_info',\n",
            " 'cov_est': 'concat',\n",
            " 'cov_method_params': None,\n",
            " 'log': True,\n",
            " 'n_components': 10,\n",
            " 'norm_trace': False,\n",
            " 'rank': None,\n",
            " 'reg': 'ledoit_wolf',\n",
            " 'transform_into': 'average_power'}\n"
          ]
        },
        {
          "output_type": "execute_result",
          "data": {
            "text/plain": [
              "Pipeline(steps=[('CSP', CSP(None)), ('SVM', SVC(C=100, gamma=0.1))])"
            ]
          },
          "metadata": {},
          "execution_count": 13
        }
      ],
      "source": [
        "best_svm"
      ]
    },
    {
      "cell_type": "code",
      "execution_count": null,
      "metadata": {
        "colab": {
          "base_uri": "https://localhost:8080/"
        },
        "id": "RIttS2YJQvHj",
        "outputId": "75e26f46-33d5-48e8-cadf-364ecc6233d3"
      },
      "outputs": [
        {
          "output_type": "stream",
          "name": "stdout",
          "text": [
            "Accuracy: 0.55\n",
            "              precision    recall  f1-score   support\n",
            "\n",
            "           1       0.55      0.60      0.58        81\n",
            "           2       0.55      0.49      0.52        79\n",
            "\n",
            "    accuracy                           0.55       160\n",
            "   macro avg       0.55      0.55      0.55       160\n",
            "weighted avg       0.55      0.55      0.55       160\n",
            "\n",
            "Tuned Model Parameters: {'CSP__log': True, 'CSP__n_components': 9, 'CSP__reg': 'ledoit_wolf'}\n"
          ]
        }
      ],
      "source": [
        "# Setup the pipeline\n",
        "# steps = [('scaler', StandardScaler()),\n",
        "#          ('CSP', csp),\n",
        "#          ('LDA', SVC())]\n",
        "\n",
        "steps = [('CSP', CSP()),\n",
        "         ('LDA', LDA())]\n",
        "\n",
        "pipeline = Pipeline(steps)\n",
        "\n",
        "# Specify the hyperparameter space\n",
        "parameters = {\"CSP__n_components\": [i for i in range(4,11)],\n",
        "              \"CSP__reg\": [\"ledoit_wolf\"],\n",
        "              \"CSP__log\": [True, False]}\n",
        "\n",
        "# Instantiate the GridSearchCV object: cv\n",
        "cv = GridSearchCV(pipeline, parameters, cv=5)\n",
        "\n",
        "# Fit to the training set\n",
        "cv.fit(X_train, y_train)\n",
        "\n",
        "# Predict the labels of the test set: y_pred\n",
        "y_pred = cv.predict(X_val)\n",
        "\n",
        "# Compute and print metrics\n",
        "print(\"Accuracy: {}\".format(cv.score(X_val, y_val)))\n",
        "print(classification_report(y_val, y_pred))\n",
        "print(\"Tuned Model Parameters: {}\".format(cv.best_params_))"
      ]
    },
    {
      "cell_type": "code",
      "execution_count": null,
      "metadata": {
        "colab": {
          "base_uri": "https://localhost:8080/"
        },
        "id": "JN0rMuv6S2Hn",
        "outputId": "0e3159cf-ff2c-41f4-b450-08bbfdf55e14"
      },
      "outputs": [
        {
          "output_type": "stream",
          "name": "stdout",
          "text": [
            "{'CSP__log': True, 'CSP__n_components': 9, 'CSP__reg': 'ledoit_wolf'}\n",
            "{'component_order': 'mutual_info',\n",
            " 'cov_est': 'concat',\n",
            " 'cov_method_params': None,\n",
            " 'log': True,\n",
            " 'n_components': 9,\n",
            " 'norm_trace': False,\n",
            " 'rank': None,\n",
            " 'reg': 'ledoit_wolf',\n",
            " 'transform_into': 'average_power'}\n",
            "Pipeline(steps=[('CSP', CSP(None)), ('LDA', LinearDiscriminantAnalysis())])\n",
            "Accuracy: 0.5875\n",
            "              precision    recall  f1-score   support\n",
            "\n",
            "           1       0.58      0.64      0.61       200\n",
            "           2       0.60      0.54      0.57       200\n",
            "\n",
            "    accuracy                           0.59       400\n",
            "   macro avg       0.59      0.59      0.59       400\n",
            "weighted avg       0.59      0.59      0.59       400\n",
            "\n",
            "Tuned Model Parameters: {'CSP__log': True, 'CSP__n_components': 9, 'CSP__reg': 'ledoit_wolf'}\n"
          ]
        }
      ],
      "source": [
        "best_lda_hyperparameters = cv.best_params_\n",
        "best_lda = cv.best_estimator_\n",
        "\n",
        "print(best_lda_hyperparameters)\n",
        "print(best_lda)\n",
        "\n",
        "# Predict the labels of the test set: y_pred\n",
        "y_pred = cv.predict(X_test)\n",
        "\n",
        "# Compute and print metrics\n",
        "print(\"Accuracy: {}\".format(cv.score(X_test, y_test)))\n",
        "print(classification_report(y_test, y_pred))\n",
        "print(\"Tuned Model Parameters: {}\".format(cv.best_params_))"
      ]
    },
    {
      "cell_type": "markdown",
      "metadata": {
        "id": "8q83_Kf2jqH8"
      },
      "source": [
        "## Classification - CV\n",
        "\n",
        "- Find models' accuracies by test set (eval)"
      ]
    },
    {
      "cell_type": "code",
      "execution_count": null,
      "metadata": {
        "colab": {
          "base_uri": "https://localhost:8080/"
        },
        "id": "mBz6BCXaaLX8",
        "outputId": "2ecc9963-5bde-40aa-e715-758daa78759c"
      },
      "outputs": [
        {
          "output_type": "stream",
          "name": "stdout",
          "text": [
            "Subject 1\n",
            "(20, 30, 2000)\n",
            "CSP + SVM Classification accuracy: 0.600000 / Chance level: 0.500000\n",
            "CSP + LDA Classification accuracy: 0.400000 / Chance level: 0.500000\n",
            "======================================================================================================================================================\n",
            "Subject 2\n",
            "(20, 30, 2000)\n",
            "CSP + SVM Classification accuracy: 0.550000 / Chance level: 0.500000\n",
            "CSP + LDA Classification accuracy: 0.500000 / Chance level: 0.500000\n",
            "======================================================================================================================================================\n",
            "Subject 3\n",
            "(20, 30, 2000)\n",
            "CSP + SVM Classification accuracy: 0.650000 / Chance level: 0.500000\n",
            "CSP + LDA Classification accuracy: 0.650000 / Chance level: 0.500000\n",
            "======================================================================================================================================================\n",
            "Subject 4\n",
            "(20, 30, 2000)\n",
            "CSP + SVM Classification accuracy: 0.550000 / Chance level: 0.500000\n",
            "CSP + LDA Classification accuracy: 0.550000 / Chance level: 0.500000\n",
            "======================================================================================================================================================\n",
            "Subject 5\n",
            "(20, 30, 2000)\n",
            "CSP + SVM Classification accuracy: 0.300000 / Chance level: 0.500000\n",
            "CSP + LDA Classification accuracy: 0.400000 / Chance level: 0.500000\n",
            "======================================================================================================================================================\n",
            "Subject 6\n",
            "(20, 30, 2000)\n",
            "CSP + SVM Classification accuracy: 0.650000 / Chance level: 0.500000\n",
            "CSP + LDA Classification accuracy: 0.600000 / Chance level: 0.500000\n",
            "======================================================================================================================================================\n",
            "Subject 7\n",
            "(20, 30, 2000)\n",
            "CSP + SVM Classification accuracy: 0.400000 / Chance level: 0.500000\n",
            "CSP + LDA Classification accuracy: 0.400000 / Chance level: 0.500000\n",
            "======================================================================================================================================================\n",
            "Subject 8\n",
            "(20, 30, 2000)\n",
            "CSP + SVM Classification accuracy: 0.500000 / Chance level: 0.500000\n",
            "CSP + LDA Classification accuracy: 0.550000 / Chance level: 0.500000\n",
            "======================================================================================================================================================\n",
            "Subject 9\n",
            "(20, 30, 2000)\n",
            "CSP + SVM Classification accuracy: 0.750000 / Chance level: 0.500000\n",
            "CSP + LDA Classification accuracy: 0.800000 / Chance level: 0.500000\n",
            "======================================================================================================================================================\n",
            "Subject 10\n",
            "(20, 30, 2000)\n",
            "CSP + SVM Classification accuracy: 0.450000 / Chance level: 0.500000\n",
            "CSP + LDA Classification accuracy: 0.550000 / Chance level: 0.500000\n",
            "======================================================================================================================================================\n",
            "Subject 11\n",
            "(20, 30, 2000)\n",
            "CSP + SVM Classification accuracy: 0.500000 / Chance level: 0.500000\n",
            "CSP + LDA Classification accuracy: 0.600000 / Chance level: 0.500000\n",
            "======================================================================================================================================================\n",
            "Subject 12\n",
            "(20, 30, 2000)\n",
            "CSP + SVM Classification accuracy: 0.650000 / Chance level: 0.500000\n",
            "CSP + LDA Classification accuracy: 0.550000 / Chance level: 0.500000\n",
            "======================================================================================================================================================\n",
            "Subject 13\n",
            "(20, 30, 2000)\n",
            "CSP + SVM Classification accuracy: 0.550000 / Chance level: 0.500000\n",
            "CSP + LDA Classification accuracy: 0.600000 / Chance level: 0.500000\n",
            "======================================================================================================================================================\n",
            "Subject 14\n",
            "(20, 30, 2000)\n",
            "CSP + SVM Classification accuracy: 0.750000 / Chance level: 0.500000\n",
            "CSP + LDA Classification accuracy: 0.700000 / Chance level: 0.500000\n",
            "======================================================================================================================================================\n",
            "Subject 15\n",
            "(20, 30, 2000)\n",
            "CSP + SVM Classification accuracy: 0.600000 / Chance level: 0.500000\n",
            "CSP + LDA Classification accuracy: 0.450000 / Chance level: 0.500000\n",
            "======================================================================================================================================================\n",
            "Subject 16\n",
            "(20, 30, 2000)\n",
            "CSP + SVM Classification accuracy: 0.850000 / Chance level: 0.500000\n",
            "CSP + LDA Classification accuracy: 0.850000 / Chance level: 0.500000\n",
            "======================================================================================================================================================\n",
            "Subject 17\n",
            "(20, 30, 2000)\n",
            "CSP + SVM Classification accuracy: 0.550000 / Chance level: 0.500000\n",
            "CSP + LDA Classification accuracy: 0.450000 / Chance level: 0.500000\n",
            "======================================================================================================================================================\n",
            "Subject 18\n",
            "(20, 30, 2000)\n",
            "CSP + SVM Classification accuracy: 0.550000 / Chance level: 0.500000\n",
            "CSP + LDA Classification accuracy: 0.550000 / Chance level: 0.500000\n",
            "======================================================================================================================================================\n",
            "Subject 19\n",
            "(20, 30, 2000)\n",
            "CSP + SVM Classification accuracy: 0.700000 / Chance level: 0.500000\n",
            "CSP + LDA Classification accuracy: 0.600000 / Chance level: 0.500000\n",
            "======================================================================================================================================================\n",
            "Subject 20\n",
            "(20, 30, 2000)\n",
            "CSP + SVM Classification accuracy: 0.450000 / Chance level: 0.500000\n",
            "CSP + LDA Classification accuracy: 0.400000 / Chance level: 0.500000\n",
            "======================================================================================================================================================\n",
            "All Subjects\n",
            "(400, 30, 2000)\n",
            "CSP + SVM Classification accuracy: 0.530000 / Chance level: 0.500000\n",
            "CSP + LDA Classification accuracy: 0.540000 / Chance level: 0.500000\n",
            "======================================================================================================================================================\n"
          ]
        }
      ],
      "source": [
        "list_models_scores_subjs = []\n",
        "\n",
        "for idx_e_subj, e_subj in enumerate(list_subjs_names):\n",
        "    print(e_subj)\n",
        "\n",
        "    if e_subj != 'All Subjects':\n",
        "        # Assign data and label for Training, Validation, Evaluation\n",
        "        # start_idx_train = int(idx_e_subj * events_per_subj_for_train)\n",
        "        # end_idx_train = int((idx_e_subj+1) * events_per_subj_for_train)\n",
        "        start_idx_eval = int((idx_e_subj)*events_per_subj_for_eval)\n",
        "        end_idx_eval  = int((idx_e_subj+1)*events_per_subj_for_eval)\n",
        "                        \n",
        "        X = eval_eeg[start_idx_eval:end_idx_eval,:,:]\n",
        "        y = eval_events[start_idx_eval:end_idx_eval,-1]\n",
        "    elif e_subj == 'All Subjects':\n",
        "        # Assign data and label for Training, Validation, Evaluation\n",
        "        X = eval_eeg\n",
        "        y = eval_events[:,-1]\n",
        "                        \n",
        "    # CSP+SVM|CSP+LDA\n",
        "    list_epochs_modeling = [X]\n",
        "    list_lables = [y]\n",
        "\n",
        "\n",
        "    list_dict_report_types = []\n",
        "    # list_models_scores = []\n",
        "    list_e_model_score = []\n",
        "    for idx_e_type_epochs, e_type_epochs in enumerate(list_epochs_modeling):\n",
        "\n",
        "        # Volt to micro Volt\n",
        "\n",
        "        # epochs_data_train  = e_type_epochs.copy().pick_types(eeg=True).get_data() * 1e6 \n",
        "        # labels = e_type_epochs.events[:,-1]\n",
        "        # print(epochs_data_train.shape)\n",
        "\n",
        "        epochs_data_train = list_epochs_modeling[idx_e_type_epochs]\n",
        "        labels = list_lables[idx_e_type_epochs]\n",
        "        print(epochs_data_train.shape)\n",
        "\n",
        "        cv = StratifiedKFold(n_splits=5, shuffle=True, random_state=42)\n",
        "        \n",
        "        # CSP + SVM\n",
        "        scores = cross_val_score(best_svm, epochs_data_train, labels, cv=cv, n_jobs=1)\n",
        "        list_e_model_score.append(scores)\n",
        "\n",
        "        # Printing the results\n",
        "        class_balance = np.mean(labels == labels[0])\n",
        "        class_balance = max(class_balance, 1. - class_balance)\n",
        "        print(\"CSP + SVM Classification accuracy: %f / Chance level: %f\" %\n",
        "            (np.nanmean(scores), class_balance))\n",
        "        \n",
        "        # CSP + LDA\n",
        "        scores = cross_val_score(best_lda, epochs_data_train, labels, cv=cv, n_jobs=1)\n",
        "        list_e_model_score.append(scores)\n",
        "\n",
        "        # Printing the results\n",
        "        class_balance = np.mean(labels == labels[0])\n",
        "        class_balance = max(class_balance, 1. - class_balance)\n",
        "        print(\"CSP + LDA Classification accuracy: %f / Chance level: %f\" %\n",
        "            (np.nanmean(scores), class_balance))\n",
        "\n",
        "\n",
        "        # list_models_scores.append(list_e_model_score)\n",
        "        print('='*150)\n",
        "        # break\n",
        "    list_models_scores_subjs.append(list_e_model_score)"
      ]
    },
    {
      "cell_type": "code",
      "execution_count": null,
      "metadata": {
        "colab": {
          "base_uri": "https://localhost:8080/"
        },
        "id": "8bEmTNdHbtRw",
        "outputId": "0797d498-9583-40f6-8f24-91383a04089d"
      },
      "outputs": [
        {
          "output_type": "execute_result",
          "data": {
            "text/plain": [
              "[[array([0.75, 0.25, 0.5 , 1.  , 0.5 ]),\n",
              "  array([0.25, 0.  , 0.25, 1.  , 0.5 ])],\n",
              " [array([0.5 , 0.5 , 0.75, 0.75, 0.25]),\n",
              "  array([0.5 , 0.5 , 0.75, 0.75, 0.  ])],\n",
              " [array([0.25, 1.  , 1.  , 0.25, 0.75]),\n",
              "  array([0.25, 1.  , 0.5 , 1.  , 0.5 ])],\n",
              " [array([0.5 , 0.5 , 0.75, 0.75, 0.25]),\n",
              "  array([0.25, 0.5 , 0.75, 0.75, 0.5 ])],\n",
              " [array([0.5 , 0.5 , 0.25, 0.  , 0.25]),\n",
              "  array([0.5 , 0.25, 0.5 , 0.5 , 0.25])],\n",
              " [array([0.5 , 0.25, 0.75, 0.75, 1.  ]),\n",
              "  array([0.75, 0.5 , 0.5 , 0.5 , 0.75])],\n",
              " [array([0.5 , 0.5 , 0.25, 0.5 , 0.25]),\n",
              "  array([0.25, 1.  , 0.5 , 0.25, 0.  ])],\n",
              " [array([0.75, 0.5 , 0.5 , 0.75, 0.  ]),\n",
              "  array([0.75, 0.75, 0.5 , 0.75, 0.  ])],\n",
              " [array([0.75, 0.25, 1.  , 1.  , 0.75]),\n",
              "  array([1.  , 0.5 , 0.75, 0.75, 1.  ])],\n",
              " [array([0.5 , 0.5 , 0.75, 0.  , 0.5 ]),\n",
              "  array([0.5 , 0.75, 0.25, 0.75, 0.5 ])],\n",
              " [array([0.5 , 0.75, 0.25, 0.5 , 0.5 ]),\n",
              "  array([0.5 , 0.75, 0.5 , 0.5 , 0.75])],\n",
              " [array([1.  , 0.5 , 0.5 , 0.5 , 0.75]),\n",
              "  array([0.75, 0.75, 0.5 , 0.5 , 0.25])],\n",
              " [array([0.25, 0.75, 0.5 , 0.75, 0.5 ]),\n",
              "  array([0.25, 1.  , 0.5 , 0.75, 0.5 ])],\n",
              " [array([1.  , 1.  , 0.5 , 0.75, 0.5 ]),\n",
              "  array([1.  , 0.75, 0.75, 0.5 , 0.5 ])],\n",
              " [array([0.5 , 0.75, 0.75, 0.25, 0.75]),\n",
              "  array([0.5 , 0.5 , 0.5 , 0.25, 0.5 ])],\n",
              " [array([1.  , 0.5 , 0.75, 1.  , 1.  ]),\n",
              "  array([1.  , 1.  , 0.75, 0.75, 0.75])],\n",
              " [array([0.5 , 0.75, 0.5 , 0.25, 0.75]),\n",
              "  array([0.5 , 0.5 , 0.5 , 0.25, 0.5 ])],\n",
              " [array([0.5 , 0.75, 0.5 , 0.75, 0.25]),\n",
              "  array([0.5 , 1.  , 0.5 , 0.5 , 0.25])],\n",
              " [array([0.75, 0.75, 0.5 , 1.  , 0.5 ]),\n",
              "  array([0.75, 0.75, 0.5 , 0.75, 0.25])],\n",
              " [array([0.25, 0.5 , 0.25, 0.5 , 0.75]),\n",
              "  array([0.5 , 0.5 , 0.5 , 0.25, 0.25])],\n",
              " [array([0.5875, 0.6125, 0.425 , 0.5625, 0.4625]),\n",
              "  array([0.55  , 0.525 , 0.5625, 0.45  , 0.6125])]]"
            ]
          },
          "metadata": {},
          "execution_count": 17
        }
      ],
      "source": [
        "list_models_scores_subjs"
      ]
    },
    {
      "cell_type": "code",
      "execution_count": null,
      "metadata": {
        "colab": {
          "base_uri": "https://localhost:8080/"
        },
        "id": "BZzymlJEefxV",
        "outputId": "11db11a8-4b7b-48f9-8a66-974b6550320a"
      },
      "outputs": [
        {
          "output_type": "stream",
          "name": "stdout",
          "text": [
            "Subject 00\n",
            "Cont EEG: CSP + SVM Classification accuracy: 0.6\n",
            "Cont EEG: CSP + LDA Classification accuracy: 0.4\n",
            "====================================================================================================\n",
            "Subject 01\n",
            "Cont EEG: CSP + SVM Classification accuracy: 0.55\n",
            "Cont EEG: CSP + LDA Classification accuracy: 0.5\n",
            "====================================================================================================\n",
            "Subject 02\n",
            "Cont EEG: CSP + SVM Classification accuracy: 0.65\n",
            "Cont EEG: CSP + LDA Classification accuracy: 0.65\n",
            "====================================================================================================\n",
            "Subject 03\n",
            "Cont EEG: CSP + SVM Classification accuracy: 0.55\n",
            "Cont EEG: CSP + LDA Classification accuracy: 0.55\n",
            "====================================================================================================\n",
            "Subject 04\n",
            "Cont EEG: CSP + SVM Classification accuracy: 0.3\n",
            "Cont EEG: CSP + LDA Classification accuracy: 0.4\n",
            "====================================================================================================\n",
            "Subject 05\n",
            "Cont EEG: CSP + SVM Classification accuracy: 0.65\n",
            "Cont EEG: CSP + LDA Classification accuracy: 0.6\n",
            "====================================================================================================\n",
            "Subject 06\n",
            "Cont EEG: CSP + SVM Classification accuracy: 0.4\n",
            "Cont EEG: CSP + LDA Classification accuracy: 0.4\n",
            "====================================================================================================\n",
            "Subject 07\n",
            "Cont EEG: CSP + SVM Classification accuracy: 0.5\n",
            "Cont EEG: CSP + LDA Classification accuracy: 0.55\n",
            "====================================================================================================\n",
            "Subject 08\n",
            "Cont EEG: CSP + SVM Classification accuracy: 0.75\n",
            "Cont EEG: CSP + LDA Classification accuracy: 0.8\n",
            "====================================================================================================\n",
            "Subject 09\n",
            "Cont EEG: CSP + SVM Classification accuracy: 0.45\n",
            "Cont EEG: CSP + LDA Classification accuracy: 0.55\n",
            "====================================================================================================\n",
            "Subject 10\n",
            "Cont EEG: CSP + SVM Classification accuracy: 0.5\n",
            "Cont EEG: CSP + LDA Classification accuracy: 0.6\n",
            "====================================================================================================\n",
            "Subject 11\n",
            "Cont EEG: CSP + SVM Classification accuracy: 0.65\n",
            "Cont EEG: CSP + LDA Classification accuracy: 0.55\n",
            "====================================================================================================\n",
            "Subject 12\n",
            "Cont EEG: CSP + SVM Classification accuracy: 0.55\n",
            "Cont EEG: CSP + LDA Classification accuracy: 0.6\n",
            "====================================================================================================\n",
            "Subject 13\n",
            "Cont EEG: CSP + SVM Classification accuracy: 0.75\n",
            "Cont EEG: CSP + LDA Classification accuracy: 0.7\n",
            "====================================================================================================\n",
            "Subject 14\n",
            "Cont EEG: CSP + SVM Classification accuracy: 0.6\n",
            "Cont EEG: CSP + LDA Classification accuracy: 0.45\n",
            "====================================================================================================\n",
            "Subject 15\n",
            "Cont EEG: CSP + SVM Classification accuracy: 0.85\n",
            "Cont EEG: CSP + LDA Classification accuracy: 0.85\n",
            "====================================================================================================\n",
            "Subject 16\n",
            "Cont EEG: CSP + SVM Classification accuracy: 0.55\n",
            "Cont EEG: CSP + LDA Classification accuracy: 0.45\n",
            "====================================================================================================\n",
            "Subject 17\n",
            "Cont EEG: CSP + SVM Classification accuracy: 0.55\n",
            "Cont EEG: CSP + LDA Classification accuracy: 0.55\n",
            "====================================================================================================\n",
            "Subject 18\n",
            "Cont EEG: CSP + SVM Classification accuracy: 0.7\n",
            "Cont EEG: CSP + LDA Classification accuracy: 0.6\n",
            "====================================================================================================\n",
            "Subject 19\n",
            "Cont EEG: CSP + SVM Classification accuracy: 0.45\n",
            "Cont EEG: CSP + LDA Classification accuracy: 0.4\n",
            "====================================================================================================\n",
            "Subject 20\n",
            "Cont EEG: CSP + SVM Classification accuracy: 0.53\n",
            "Cont EEG: CSP + LDA Classification accuracy: 0.54\n",
            "====================================================================================================\n"
          ]
        }
      ],
      "source": [
        "for idx_e_subj, e_subj in enumerate(list_models_scores_subjs):\n",
        "    print(f\"Subject {idx_e_subj:02}\")\n",
        "    for idx_e_type, e_type in enumerate(e_subj):\n",
        "        avg_score = np.mean(e_type)\n",
        "        # Cont EEG\n",
        "        if idx_e_type ==  0:\n",
        "            print(f\"Cont EEG: CSP + SVM Classification accuracy: {avg_score}\")\n",
        "        elif idx_e_type == 1:\n",
        "            print(f\"Cont EEG: CSP + LDA Classification accuracy: {avg_score}\")\n",
        "        # break\n",
        "    # break\n",
        "    print('='*100)\n"
      ]
    },
    {
      "cell_type": "markdown",
      "metadata": {
        "id": "FV7h95wlcgNf"
      },
      "source": [
        "# Save results"
      ]
    },
    {
      "cell_type": "code",
      "execution_count": null,
      "metadata": {
        "colab": {
          "base_uri": "https://localhost:8080/"
        },
        "id": "Y_NbyFy-iPAP",
        "outputId": "a7ed4666-61c1-4bdf-b96a-039cf2d5c8e1"
      },
      "outputs": [
        {
          "output_type": "stream",
          "name": "stdout",
          "text": [
            "[[0.6  0.4 ]\n",
            " [0.55 0.5 ]\n",
            " [0.65 0.65]\n",
            " [0.55 0.55]\n",
            " [0.3  0.4 ]\n",
            " [0.65 0.6 ]\n",
            " [0.4  0.4 ]\n",
            " [0.5  0.55]\n",
            " [0.75 0.8 ]\n",
            " [0.45 0.55]\n",
            " [0.5  0.6 ]\n",
            " [0.65 0.55]\n",
            " [0.55 0.6 ]\n",
            " [0.75 0.7 ]\n",
            " [0.6  0.45]\n",
            " [0.85 0.85]\n",
            " [0.55 0.45]\n",
            " [0.55 0.55]\n",
            " [0.7  0.6 ]\n",
            " [0.45 0.4 ]\n",
            " [0.53 0.54]]\n"
          ]
        }
      ],
      "source": [
        "col_names = [f\"CSP + SVM_{EOG_ref}-{ECG_ref}\", f\"CSP + LDA_{EOG_ref}-{ECG_ref}\"]\n",
        "index_names = list_subjs_names\n",
        "avg_score = np.mean(list_models_scores_subjs, axis=-1)\n",
        "\n",
        "print(avg_score)"
      ]
    },
    {
      "cell_type": "code",
      "execution_count": null,
      "metadata": {
        "colab": {
          "base_uri": "https://localhost:8080/",
          "height": 708
        },
        "id": "orWH9RmOXI3o",
        "outputId": "9b0a8fbd-bce4-4e3c-ae58-2a03cb448086"
      },
      "outputs": [
        {
          "output_type": "execute_result",
          "data": {
            "text/plain": [
              "              CSP + SVM_EEGANet-None  CSP + LDA_EEGANet-None\n",
              "Subject 1                       0.60                    0.40\n",
              "Subject 2                       0.55                    0.50\n",
              "Subject 3                       0.65                    0.65\n",
              "Subject 4                       0.55                    0.55\n",
              "Subject 5                       0.30                    0.40\n",
              "Subject 6                       0.65                    0.60\n",
              "Subject 7                       0.40                    0.40\n",
              "Subject 8                       0.50                    0.55\n",
              "Subject 9                       0.75                    0.80\n",
              "Subject 10                      0.45                    0.55\n",
              "Subject 11                      0.50                    0.60\n",
              "Subject 12                      0.65                    0.55\n",
              "Subject 13                      0.55                    0.60\n",
              "Subject 14                      0.75                    0.70\n",
              "Subject 15                      0.60                    0.45\n",
              "Subject 16                      0.85                    0.85\n",
              "Subject 17                      0.55                    0.45\n",
              "Subject 18                      0.55                    0.55\n",
              "Subject 19                      0.70                    0.60\n",
              "Subject 20                      0.45                    0.40\n",
              "All Subjects                    0.53                    0.54"
            ],
            "text/html": [
              "\n",
              "  <div id=\"df-4d5090e2-4713-4cef-941f-001cfd4fc1f2\">\n",
              "    <div class=\"colab-df-container\">\n",
              "      <div>\n",
              "<style scoped>\n",
              "    .dataframe tbody tr th:only-of-type {\n",
              "        vertical-align: middle;\n",
              "    }\n",
              "\n",
              "    .dataframe tbody tr th {\n",
              "        vertical-align: top;\n",
              "    }\n",
              "\n",
              "    .dataframe thead th {\n",
              "        text-align: right;\n",
              "    }\n",
              "</style>\n",
              "<table border=\"1\" class=\"dataframe\">\n",
              "  <thead>\n",
              "    <tr style=\"text-align: right;\">\n",
              "      <th></th>\n",
              "      <th>CSP + SVM_EEGANet-None</th>\n",
              "      <th>CSP + LDA_EEGANet-None</th>\n",
              "    </tr>\n",
              "  </thead>\n",
              "  <tbody>\n",
              "    <tr>\n",
              "      <th>Subject 1</th>\n",
              "      <td>0.60</td>\n",
              "      <td>0.40</td>\n",
              "    </tr>\n",
              "    <tr>\n",
              "      <th>Subject 2</th>\n",
              "      <td>0.55</td>\n",
              "      <td>0.50</td>\n",
              "    </tr>\n",
              "    <tr>\n",
              "      <th>Subject 3</th>\n",
              "      <td>0.65</td>\n",
              "      <td>0.65</td>\n",
              "    </tr>\n",
              "    <tr>\n",
              "      <th>Subject 4</th>\n",
              "      <td>0.55</td>\n",
              "      <td>0.55</td>\n",
              "    </tr>\n",
              "    <tr>\n",
              "      <th>Subject 5</th>\n",
              "      <td>0.30</td>\n",
              "      <td>0.40</td>\n",
              "    </tr>\n",
              "    <tr>\n",
              "      <th>Subject 6</th>\n",
              "      <td>0.65</td>\n",
              "      <td>0.60</td>\n",
              "    </tr>\n",
              "    <tr>\n",
              "      <th>Subject 7</th>\n",
              "      <td>0.40</td>\n",
              "      <td>0.40</td>\n",
              "    </tr>\n",
              "    <tr>\n",
              "      <th>Subject 8</th>\n",
              "      <td>0.50</td>\n",
              "      <td>0.55</td>\n",
              "    </tr>\n",
              "    <tr>\n",
              "      <th>Subject 9</th>\n",
              "      <td>0.75</td>\n",
              "      <td>0.80</td>\n",
              "    </tr>\n",
              "    <tr>\n",
              "      <th>Subject 10</th>\n",
              "      <td>0.45</td>\n",
              "      <td>0.55</td>\n",
              "    </tr>\n",
              "    <tr>\n",
              "      <th>Subject 11</th>\n",
              "      <td>0.50</td>\n",
              "      <td>0.60</td>\n",
              "    </tr>\n",
              "    <tr>\n",
              "      <th>Subject 12</th>\n",
              "      <td>0.65</td>\n",
              "      <td>0.55</td>\n",
              "    </tr>\n",
              "    <tr>\n",
              "      <th>Subject 13</th>\n",
              "      <td>0.55</td>\n",
              "      <td>0.60</td>\n",
              "    </tr>\n",
              "    <tr>\n",
              "      <th>Subject 14</th>\n",
              "      <td>0.75</td>\n",
              "      <td>0.70</td>\n",
              "    </tr>\n",
              "    <tr>\n",
              "      <th>Subject 15</th>\n",
              "      <td>0.60</td>\n",
              "      <td>0.45</td>\n",
              "    </tr>\n",
              "    <tr>\n",
              "      <th>Subject 16</th>\n",
              "      <td>0.85</td>\n",
              "      <td>0.85</td>\n",
              "    </tr>\n",
              "    <tr>\n",
              "      <th>Subject 17</th>\n",
              "      <td>0.55</td>\n",
              "      <td>0.45</td>\n",
              "    </tr>\n",
              "    <tr>\n",
              "      <th>Subject 18</th>\n",
              "      <td>0.55</td>\n",
              "      <td>0.55</td>\n",
              "    </tr>\n",
              "    <tr>\n",
              "      <th>Subject 19</th>\n",
              "      <td>0.70</td>\n",
              "      <td>0.60</td>\n",
              "    </tr>\n",
              "    <tr>\n",
              "      <th>Subject 20</th>\n",
              "      <td>0.45</td>\n",
              "      <td>0.40</td>\n",
              "    </tr>\n",
              "    <tr>\n",
              "      <th>All Subjects</th>\n",
              "      <td>0.53</td>\n",
              "      <td>0.54</td>\n",
              "    </tr>\n",
              "  </tbody>\n",
              "</table>\n",
              "</div>\n",
              "      <button class=\"colab-df-convert\" onclick=\"convertToInteractive('df-4d5090e2-4713-4cef-941f-001cfd4fc1f2')\"\n",
              "              title=\"Convert this dataframe to an interactive table.\"\n",
              "              style=\"display:none;\">\n",
              "        \n",
              "  <svg xmlns=\"http://www.w3.org/2000/svg\" height=\"24px\"viewBox=\"0 0 24 24\"\n",
              "       width=\"24px\">\n",
              "    <path d=\"M0 0h24v24H0V0z\" fill=\"none\"/>\n",
              "    <path d=\"M18.56 5.44l.94 2.06.94-2.06 2.06-.94-2.06-.94-.94-2.06-.94 2.06-2.06.94zm-11 1L8.5 8.5l.94-2.06 2.06-.94-2.06-.94L8.5 2.5l-.94 2.06-2.06.94zm10 10l.94 2.06.94-2.06 2.06-.94-2.06-.94-.94-2.06-.94 2.06-2.06.94z\"/><path d=\"M17.41 7.96l-1.37-1.37c-.4-.4-.92-.59-1.43-.59-.52 0-1.04.2-1.43.59L10.3 9.45l-7.72 7.72c-.78.78-.78 2.05 0 2.83L4 21.41c.39.39.9.59 1.41.59.51 0 1.02-.2 1.41-.59l7.78-7.78 2.81-2.81c.8-.78.8-2.07 0-2.86zM5.41 20L4 18.59l7.72-7.72 1.47 1.35L5.41 20z\"/>\n",
              "  </svg>\n",
              "      </button>\n",
              "      \n",
              "  <style>\n",
              "    .colab-df-container {\n",
              "      display:flex;\n",
              "      flex-wrap:wrap;\n",
              "      gap: 12px;\n",
              "    }\n",
              "\n",
              "    .colab-df-convert {\n",
              "      background-color: #E8F0FE;\n",
              "      border: none;\n",
              "      border-radius: 50%;\n",
              "      cursor: pointer;\n",
              "      display: none;\n",
              "      fill: #1967D2;\n",
              "      height: 32px;\n",
              "      padding: 0 0 0 0;\n",
              "      width: 32px;\n",
              "    }\n",
              "\n",
              "    .colab-df-convert:hover {\n",
              "      background-color: #E2EBFA;\n",
              "      box-shadow: 0px 1px 2px rgba(60, 64, 67, 0.3), 0px 1px 3px 1px rgba(60, 64, 67, 0.15);\n",
              "      fill: #174EA6;\n",
              "    }\n",
              "\n",
              "    [theme=dark] .colab-df-convert {\n",
              "      background-color: #3B4455;\n",
              "      fill: #D2E3FC;\n",
              "    }\n",
              "\n",
              "    [theme=dark] .colab-df-convert:hover {\n",
              "      background-color: #434B5C;\n",
              "      box-shadow: 0px 1px 3px 1px rgba(0, 0, 0, 0.15);\n",
              "      filter: drop-shadow(0px 1px 2px rgba(0, 0, 0, 0.3));\n",
              "      fill: #FFFFFF;\n",
              "    }\n",
              "  </style>\n",
              "\n",
              "      <script>\n",
              "        const buttonEl =\n",
              "          document.querySelector('#df-4d5090e2-4713-4cef-941f-001cfd4fc1f2 button.colab-df-convert');\n",
              "        buttonEl.style.display =\n",
              "          google.colab.kernel.accessAllowed ? 'block' : 'none';\n",
              "\n",
              "        async function convertToInteractive(key) {\n",
              "          const element = document.querySelector('#df-4d5090e2-4713-4cef-941f-001cfd4fc1f2');\n",
              "          const dataTable =\n",
              "            await google.colab.kernel.invokeFunction('convertToInteractive',\n",
              "                                                     [key], {});\n",
              "          if (!dataTable) return;\n",
              "\n",
              "          const docLinkHtml = 'Like what you see? Visit the ' +\n",
              "            '<a target=\"_blank\" href=https://colab.research.google.com/notebooks/data_table.ipynb>data table notebook</a>'\n",
              "            + ' to learn more about interactive tables.';\n",
              "          element.innerHTML = '';\n",
              "          dataTable['output_type'] = 'display_data';\n",
              "          await google.colab.output.renderOutput(dataTable, element);\n",
              "          const docLink = document.createElement('div');\n",
              "          docLink.innerHTML = docLinkHtml;\n",
              "          element.appendChild(docLink);\n",
              "        }\n",
              "      </script>\n",
              "    </div>\n",
              "  </div>\n",
              "  "
            ]
          },
          "metadata": {},
          "execution_count": 20
        }
      ],
      "source": [
        "df_model_metrics = pd.DataFrame(data=avg_score, \n",
        "                                index= list_subjs_names,\n",
        "                                columns=col_names)\n",
        "df_model_metrics"
      ]
    },
    {
      "cell_type": "code",
      "source": [
        "print(f\"{EOG_ref}-{ECG_ref}\")"
      ],
      "metadata": {
        "colab": {
          "base_uri": "https://localhost:8080/"
        },
        "id": "55grtoOe7P4H",
        "outputId": "19f7b212-3be9-43c4-9be5-fe8f63195156"
      },
      "execution_count": null,
      "outputs": [
        {
          "output_type": "stream",
          "name": "stdout",
          "text": [
            "EEGANet-None\n"
          ]
        }
      ]
    },
    {
      "cell_type": "code",
      "execution_count": null,
      "metadata": {
        "id": "dM-0YA75mIfk"
      },
      "outputs": [],
      "source": [
        "df_model_metrics.to_csv(path_or_buf=f'result/MI/MI_acc-{EOG_ref}-{ECG_ref}.csv', \n",
        "                        sep=',', float_format=None)"
      ]
    },
    {
      "cell_type": "code",
      "execution_count": null,
      "metadata": {
        "id": "x6xIueKnmeDd"
      },
      "outputs": [],
      "source": []
    }
  ],
  "metadata": {
    "colab": {
      "collapsed_sections": [],
      "provenance": [],
      "toc_visible": true
    },
    "gpuClass": "standard",
    "kernelspec": {
      "display_name": "Python 3",
      "name": "python3"
    },
    "language_info": {
      "name": "python"
    }
  },
  "nbformat": 4,
  "nbformat_minor": 0
}